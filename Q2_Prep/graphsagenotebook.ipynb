{
 "cells": [
  {
   "cell_type": "code",
   "execution_count": 75,
   "id": "560b8c14-1449-42dd-9d62-72e21cd4c7f4",
   "metadata": {},
   "outputs": [],
   "source": [
    "import torch\n",
    "import torch_geometric\n",
    "from torch_geometric import utils\n",
    "from torch_geometric.nn import SAGEConv\n",
    "import torch.nn as nn\n",
    "import torch.nn.functional as F\n",
    "\n",
    "from scipy.sparse import coo_matrix\n",
    "import pandas as pd\n",
    "import numpy as np\n",
    "\n",
    "from sklearn.decomposition import PCA\n",
    "import matplotlib.pyplot as plt"
   ]
  },
  {
   "cell_type": "code",
   "execution_count": 2,
   "id": "00b14929-cddb-4497-b680-9092a736cec9",
   "metadata": {},
   "outputs": [],
   "source": [
    "ec_hic = np.load('data/GBM39ec_5k_collapsed_matrix.npy')\n",
    "hsr_hic = np.load('data/GBM39HSR_5k_collapsed_matrix.npy')"
   ]
  },
  {
   "cell_type": "code",
   "execution_count": 20,
   "id": "b52f4d0c-4795-47b6-bf02-00be6ab7bd9a",
   "metadata": {},
   "outputs": [],
   "source": [
    "ec_hic_75 = (ec_hic >= np.percentile(ec_hic, 75)).astype(int)\n",
    "hsr_hic_75 = (hsr_hic >= np.percentile(hsr_hic, 75)).astype(int)"
   ]
  },
  {
   "cell_type": "code",
   "execution_count": 21,
   "id": "c3b90d67-4749-4060-a724-92d405a23a3b",
   "metadata": {},
   "outputs": [],
   "source": [
    "ec_df = pd.read_csv('data/ec_cleaned.csv')\n",
    "hsr_df = pd.read_csv('data/hsr_cleaned.csv')"
   ]
  },
  {
   "cell_type": "code",
   "execution_count": 22,
   "id": "44c30162-fe97-423e-9a39-ad1141bdc043",
   "metadata": {},
   "outputs": [],
   "source": [
    "hsr_feats = torch.tensor(hsr_df[['read_count', 'total_genes']].to_numpy())\n",
    "hsr_labels = torch.zeros(hsr_feats.shape[0])\n",
    "\n",
    "ec_feats = torch.tensor(ec_df[['read_count', 'total_genes']].to_numpy())\n",
    "ec_labels = torch.ones(ec_feats.shape[0])"
   ]
  },
  {
   "cell_type": "code",
   "execution_count": 23,
   "id": "90b7f47d-1afc-49c3-bc03-5c63223cd38e",
   "metadata": {},
   "outputs": [],
   "source": [
    "def hic_to_sparse(hic_mat):\n",
    "    adj_mat = np.triu(hic_mat)\n",
    "    sparse_adj = coo_matrix(adj_mat)\n",
    "\n",
    "    return utils.from_scipy_sparse_matrix(sparse_adj)"
   ]
  },
  {
   "cell_type": "code",
   "execution_count": 24,
   "id": "f86d54f0-d048-48f9-857d-6fcc958d3c93",
   "metadata": {},
   "outputs": [],
   "source": [
    "hsr_edge_index, hsr_edge_attr = hic_to_sparse(hsr_hic_75)\n",
    "hsr_graph = torch_geometric.data.Data(edge_index = hsr_edge_index, edge_attr = hsr_edge_attr, x = hsr_feats, y = hsr_labels)\n",
    "\n",
    "ec_edge_index, ec_edge_attr = hic_to_sparse(ec_hic_75)\n",
    "ec_graph = torch_geometric.data.Data(edge_index = ec_edge_index, edge_attr = ec_edge_attr, x = ec_feats, y = ec_labels)"
   ]
  },
  {
   "cell_type": "code",
   "execution_count": 25,
   "id": "13d8567c-a615-4a6e-8786-15d1a6cb1388",
   "metadata": {},
   "outputs": [],
   "source": [
    "x = torch.cat([ec_feats, hsr_feats], dim=0)\n",
    "hsr_edge_index = hsr_edge_index + ec_labels.shape[0]\n",
    "edge_index = torch.cat([ec_edge_index, hsr_edge_index], dim=1)\n",
    "edge_attr = torch.cat([ec_edge_attr, hsr_edge_attr], dim=0)\n",
    "labels = torch.cat([ec_labels, hsr_labels], dim=0)\n",
    "\n",
    "G = torch_geometric.data.Data(edge_index = edge_index, edge_attr = edge_attr, x = x, y = labels)"
   ]
  },
  {
   "cell_type": "code",
   "execution_count": 59,
   "id": "8f70a877-c4fb-4bc0-9287-9c0c9d0cdbbb",
   "metadata": {},
   "outputs": [],
   "source": [
    "class GraphSAGE(nn.Module):\n",
    "    def __init__(self, num_feat, num_graph_conv_layers, graph_conv_layer_sizes, num_lin_layers, lin_hidden_sizes, num_classes):\n",
    "        super().__init__()\n",
    "        self.num_graph_conv_layers = num_graph_conv_layers\n",
    "        self.num_lin_layers = num_lin_layers\n",
    "        self.embeddings = None\n",
    "\n",
    "        if self.num_graph_conv_layers == 1:\n",
    "            self.conv1 = SAGEConv(graph_conv_layer_sizes[0], graph_conv_layer_sizes[1])\n",
    "        elif self.num_graph_conv_layers == 2:\n",
    "            self.conv1 = SAGEConv(graph_conv_layer_sizes[0], graph_conv_layer_sizes[1])\n",
    "            self.conv2 = SAGEConv(graph_conv_layer_sizes[1], graph_conv_layer_sizes[2])\n",
    "        elif self.num_graph_conv_layers == 3:\n",
    "            self.conv1 = SAGEConv(graph_conv_layer_sizes[0], graph_conv_layer_sizes[1])\n",
    "            self.conv2 = SAGEConv(graph_conv_layer_sizes[1], graph_conv_layer_sizes[2])\n",
    "            self.conv3 = SAGEConv(graph_conv_layer_sizes[2], graph_conv_layer_sizes[3])\n",
    "        \n",
    "        if self.num_lin_layers == 1:\n",
    "            self.lin1 = nn.Linear(lin_hidden_sizes[0], lin_hidden_sizes[1])\n",
    "        elif self.num_lin_layers == 2:\n",
    "            self.lin1 = nn.Linear(lin_hidden_sizes[0], lin_hidden_sizes[1])\n",
    "            self.lin2 = nn.Linear(lin_hidden_sizes[1], lin_hidden_sizes[2])\n",
    "        elif self.num_lin_layers == 3:\n",
    "            self.lin1 = nn.Linear(lin_hidden_sizes[0], lin_hidden_sizes[1])\n",
    "            self.lin2 = nn.Linear(lin_hidden_sizes[1], lin_hidden_sizes[2])\n",
    "            self.lin3 = nn.Linear(lin_hidden_sizes[2], lin_hidden_sizes[3])\n",
    "            \n",
    "        self.loss_calc = nn.CrossEntropyLoss()\n",
    "        self.torch_softmax = nn.Softmax(dim=1)\n",
    "\n",
    "    def forward(self, data):\n",
    "        x, edge_index, edge_attr = data.x, data.edge_index, data.edge_attr\n",
    "\n",
    "        ### Graph convolution module\n",
    "        if self.num_graph_conv_layers == 1:\n",
    "            h = self.conv1(x, edge_index)\n",
    "            h = torch.relu(h)\n",
    "        elif self.num_graph_conv_layers == 2:\n",
    "            h = self.conv1(x, edge_index)\n",
    "            h = torch.relu(h)\n",
    "            h = self.conv2(h, edge_index)\n",
    "            h = torch.relu(h)\n",
    "        elif self.num_graph_conv_layers == 3:\n",
    "            h = self.conv1(x, edge_index)\n",
    "            h = torch.relu(h)\n",
    "            h = self.conv2(h, edge_index)\n",
    "            h = torch.relu(h)\n",
    "            h = self.conv3(h, edge_index)\n",
    "            h = torch.relu(h)\n",
    "            \n",
    "        #h = F.dropout(h, p = self.dropout_value)\n",
    "        self.embeddings = h\n",
    "        scores = h\n",
    "        ### Linear module\n",
    "        if self.num_lin_layers == 0:\n",
    "            return scores\n",
    "        elif self.num_lin_layers == 1:\n",
    "            scores = self.lin1(scores)\n",
    "        elif self.num_lin_layers == 2:\n",
    "            scores = self.lin1(scores)\n",
    "            scores = torch.relu(scores)\n",
    "            scores = self.lin2(scores)\n",
    "        elif self.num_lin_layers == 3:\n",
    "            scores = self.lin1(scores)\n",
    "            scores = torch.relu(scores)\n",
    "            scores = self.lin2(scores)\n",
    "            scores = torch.relu(scores)\n",
    "            scores = self.lin3(scores)\n",
    "        \n",
    "        return scores\n",
    "\n",
    "    def loss(self, scores, labels):\n",
    "        xent_loss = self.loss_calc(scores, labels)\n",
    "        return xent_loss\n",
    "    \n",
    "    def calc_softmax_pred(self, scores):\n",
    "        softmax = self.torch_softmax(scores)\n",
    "        predicted = torch.argmax(softmax, 1)\n",
    "        return softmax, predicted\n",
    "\n",
    "    def get_embeddings(self):\n",
    "        if self.embeddings is not None:\n",
    "            return self.embeddings\n",
    "\n",
    "        print(\"Untrained Model: Please train model first\")\n",
    "        return None"
   ]
  },
  {
   "cell_type": "code",
   "execution_count": 27,
   "id": "4f45ddec-70c4-4b5b-a971-aa762a80946d",
   "metadata": {},
   "outputs": [
    {
     "data": {
      "text/plain": [
       "device(type='cuda')"
      ]
     },
     "execution_count": 27,
     "metadata": {},
     "output_type": "execute_result"
    }
   ],
   "source": [
    "# Check GPU\n",
    "device = torch.device(\"cuda\" if torch.cuda.is_available() else \"cpu\")\n",
    "device"
   ]
  },
  {
   "cell_type": "code",
   "execution_count": 60,
   "id": "9597e371-b0a0-46b2-a625-333e7bc340fc",
   "metadata": {},
   "outputs": [],
   "source": [
    "# separate train/test sets\n",
    "def split_data(G, train_ratio=0.8, test_ratio=0.2, seed=42):\n",
    "    assert train_ratio + test_ratio == 1, \"Ratios must sum to 1.\"\n",
    "    \n",
    "    torch.manual_seed(seed)  # For reproducibility\n",
    "    \n",
    "    num_nodes = G.x.shape[0]  # Total number of nodes\n",
    "    indices = torch.randperm(num_nodes)  # Shuffle node indices randomly\n",
    "    \n",
    "    # Compute split size\n",
    "    train_size = int(train_ratio * num_nodes)\n",
    "    \n",
    "    # Assign indices to train and test sets\n",
    "    train_idx = indices[:train_size]\n",
    "    test_idx = indices[train_size:]\n",
    "\n",
    "    # Create boolean masks\n",
    "    train_mask = torch.zeros(num_nodes, dtype=torch.bool)\n",
    "    test_mask = torch.zeros(num_nodes, dtype=torch.bool)\n",
    "\n",
    "    train_mask[train_idx] = True\n",
    "    test_mask[test_idx] = True\n",
    "\n",
    "    # Attach masks to the graph\n",
    "    G.train_mask = train_mask\n",
    "    G.test_mask = test_mask\n",
    "\n",
    "    return G"
   ]
  },
  {
   "cell_type": "code",
   "execution_count": 66,
   "id": "005193b9-b979-469d-a0ab-8f040943d6dc",
   "metadata": {},
   "outputs": [],
   "source": [
    "# build train function with train/test split, build test function - condensed\n",
    "# implement early stopping\n",
    "def train(model, optimizer, graph, device):\n",
    "    model.train()\n",
    "    optimizer.zero_grad()\n",
    "    scores = model(graph)\n",
    "    loss = model.loss(scores[graph.train_mask], graph.y[graph.train_mask])\n",
    "    loss.backward()\n",
    "    optimizer.step()\n",
    "    \n",
    "    return loss.item(), scores\n",
    "\n",
    "def test(model, graph, device):\n",
    "    model.eval()\n",
    "    scores = model(graph)\n",
    "    softmax, predicted = model.calc_softmax_pred(scores)\n",
    "    accs = []\n",
    "    for mask in [graph.train_mask, graph.test_mask]:\n",
    "        correct = (predicted[mask] == graph.y[mask]).sum().item()\n",
    "        acc = correct / mask.sum().item()\n",
    "        accs.append(acc)\n",
    "    \n",
    "    return accs"
   ]
  },
  {
   "cell_type": "code",
   "execution_count": 69,
   "id": "ba3cfca1-f59e-4016-abef-d5c5e59510b0",
   "metadata": {},
   "outputs": [],
   "source": [
    "# Model inputs + layer information\n",
    "num_features = G.num_node_features\n",
    "num_graph_sage_layers = 2\n",
    "num_classes = 2\n",
    "graph_sage_layer_sizes = [num_features,8,16]\n",
    "linear_layer_sizes = [16,8,num_classes]\n",
    "num_linear_layers = 2\n",
    "\n",
    "# Hyperparameters\n",
    "learning_rate = 0.01\n",
    "weight_decay = 5e-4\n",
    "num_epochs = 3000\n",
    "#dropout_value = 0.5\n",
    "\n",
    "# Initialize the model, optimizer, and send to device\n",
    "device = torch.device('cuda' if torch.cuda.is_available() else 'cpu')\n",
    "model = GraphSAGE(num_features, num_graph_sage_layers, graph_sage_layer_sizes, linear_layer_sizes, num_linear_layers, num_classes).to(device)\n",
    "optimizer = torch.optim.Adam(model.parameters(), lr=learning_rate, weight_decay=weight_decay)\n",
    "#model.dropout_value = dropout_value\n",
    "\n",
    "# Assign train and test masks to graph\n",
    "G.x = G.x.float()\n",
    "G.y = G.y.long()\n",
    "G = split_data(G)\n",
    "G = G.to(device)"
   ]
  },
  {
   "cell_type": "code",
   "execution_count": 70,
   "id": "4008a1a9-967d-4c93-9db6-d799eeed5a80",
   "metadata": {},
   "outputs": [
    {
     "name": "stdout",
     "output_type": "stream",
     "text": [
      "Epoch 500, Loss: 1.3320, Train Acc: 0.6883, Test Acc: 0.6634\n",
      "Epoch 1000, Loss: 1.1382, Train Acc: 0.7257, Test Acc: 0.7921\n",
      "Epoch 1500, Loss: 0.7487, Train Acc: 0.8279, Test Acc: 0.8218\n",
      "Epoch 2000, Loss: 0.5377, Train Acc: 0.8928, Test Acc: 0.9010\n",
      "Epoch 2500, Loss: 0.5100, Train Acc: 0.8978, Test Acc: 0.9109\n",
      "Epoch 3000, Loss: 0.4947, Train Acc: 0.9027, Test Acc: 0.9208\n"
     ]
    }
   ],
   "source": [
    "train_accs = []\n",
    "test_accs = []\n",
    "\n",
    "# Training loop - Entire graph in one model\n",
    "for epoch in range(1, num_epochs + 1):\n",
    "    loss, score = train(model, optimizer, G, device)\n",
    "    train_acc, test_acc = test(model, G, device)\n",
    "    train_accs.append(train_acc)\n",
    "    test_accs.append(test_acc)\n",
    "    \n",
    "    if epoch % 500 == 0 or epoch == num_epochs:\n",
    "        print(f\"Epoch {epoch:03d}, Loss: {loss:.4f}, Train Acc: {train_acc:.4f}, Test Acc: {test_acc:.4f}\")"
   ]
  },
  {
   "cell_type": "code",
   "execution_count": 71,
   "id": "a1eb374d-3468-47d6-a170-32fc5a8e06e6",
   "metadata": {},
   "outputs": [
    {
     "data": {
      "text/plain": [
       "(502, 16)"
      ]
     },
     "execution_count": 71,
     "metadata": {},
     "output_type": "execute_result"
    }
   ],
   "source": [
    "embeddings = model.get_embeddings().cpu().detach().numpy()\n",
    "embeddings.shape"
   ]
  },
  {
   "cell_type": "code",
   "execution_count": 73,
   "id": "5a5bbb9f-32b4-466d-af67-8ad4003e1d01",
   "metadata": {},
   "outputs": [],
   "source": [
    "pca = PCA(n_components=2)\n",
    "pca_embeds = pca.fit_transform(embeddings)"
   ]
  },
  {
   "cell_type": "code",
   "execution_count": 78,
   "id": "7a6d588f-f14c-4438-9418-a4ec24d349e0",
   "metadata": {},
   "outputs": [
    {
     "data": {
      "image/png": "[encoded data removed]",
      "text/plain": [
       "<Figure size 1000x1000 with 1 Axes>"
      ]
     },
     "metadata": {},
     "output_type": "display_data"
    }
   ],
   "source": [
    "ec_mask = (G.y == 1).cpu()\n",
    "\n",
    "plt.figure(figsize=(10,10))\n",
    "plt.scatter(pca_embeds[:, 0][ec_mask], pca_embeds[:, 1][ec_mask], color='red', label='ecDNA', alpha=0.7)\n",
    "plt.scatter(pca_embeds[:, 0][~ec_mask], pca_embeds[:, 1][~ec_mask], color='blue', label='HSR', alpha=0.7)\n",
    "plt.ylim(-100, 100)\n",
    "plt.legend()\n",
    "plt.show()"
   ]
  },
  {
   "cell_type": "code",
   "execution_count": null,
   "id": "f0ed6884-4338-42ce-86e8-427b3282c8e5",
   "metadata": {},
   "outputs": [],
   "source": []
  }
 ],
 "metadata": {
  "kernelspec": {
   "display_name": "Python 3 (ipykernel)",
   "language": "python",
   "name": "python3"
  },
  "language_info": {
   "codemirror_mode": {
    "name": "ipython",
    "version": 3
   },
   "file_extension": ".py",
   "mimetype": "text/x-python",
   "name": "python",
   "nbconvert_exporter": "python",
   "pygments_lexer": "ipython3",
   "version": "3.11.9"
  }
 },
 "nbformat": 4,
 "nbformat_minor": 5
}
