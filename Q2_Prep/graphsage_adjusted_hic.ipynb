{
 "cells": [
  {
   "cell_type": "code",
   "execution_count": 1,
   "id": "344d1893-decf-44e1-93c9-056937b78984",
   "metadata": {},
   "outputs": [
    {
     "name": "stderr",
     "output_type": "stream",
     "text": [
      "/home/mdalquist/.local/lib/python3.11/site-packages/torch_geometric/typing.py:68: UserWarning: An issue occurred while importing 'pyg-lib'. Disabling its usage. Stacktrace: libcudart.so.11.0: cannot open shared object file: No such file or directory\n",
      "  warnings.warn(f\"An issue occurred while importing 'pyg-lib'. \"\n",
      "/home/mdalquist/.local/lib/python3.11/site-packages/torch_geometric/typing.py:97: UserWarning: An issue occurred while importing 'torch-cluster'. Disabling its usage. Stacktrace: libcudart.so.11.0: cannot open shared object file: No such file or directory\n",
      "  warnings.warn(f\"An issue occurred while importing 'torch-cluster'. \"\n",
      "/home/mdalquist/.local/lib/python3.11/site-packages/torch_geometric/typing.py:113: UserWarning: An issue occurred while importing 'torch-spline-conv'. Disabling its usage. Stacktrace: libcudart.so.11.0: cannot open shared object file: No such file or directory\n",
      "  warnings.warn(\n",
      "/home/mdalquist/.local/lib/python3.11/site-packages/torch_geometric/typing.py:124: UserWarning: An issue occurred while importing 'torch-sparse'. Disabling its usage. Stacktrace: libcudart.so.11.0: cannot open shared object file: No such file or directory\n",
      "  warnings.warn(f\"An issue occurred while importing 'torch-sparse'. \"\n"
     ]
    }
   ],
   "source": [
    "import torch\n",
    "import torch_geometric\n",
    "from torch_geometric import utils\n",
    "from torch_geometric.nn import SAGEConv\n",
    "import torch.nn as nn\n",
    "import torch.nn.functional as F\n",
    "\n",
    "from scipy.sparse import coo_matrix\n",
    "import pandas as pd\n",
    "import numpy as np\n",
    "\n",
    "from sklearn.decomposition import PCA\n",
    "import matplotlib.pyplot as plt"
   ]
  },
  {
   "cell_type": "code",
   "execution_count": 2,
   "id": "1edf5af4-e5d4-46fc-b790-9db8fa34a051",
   "metadata": {},
   "outputs": [],
   "source": [
    "ec_hic = np.load('data/ec_adj_mat_t25.npy')\n",
    "hsr_hic = np.load('data/hsr_adj_mat_t25.npy')\n",
    "\n",
    "ec_df = pd.read_csv('data/ec_cleaned.csv')\n",
    "hsr_df = pd.read_csv('data/hsr_cleaned.csv')\n",
    "\n",
    "hsr_feats = torch.tensor(hsr_df[['read_count', 'total_genes']].to_numpy())\n",
    "hsr_labels = torch.zeros(hsr_feats.shape[0])\n",
    "\n",
    "ec_feats = torch.tensor(ec_df[['read_count', 'total_genes']].to_numpy())\n",
    "ec_labels = torch.ones(ec_feats.shape[0])\n",
    "\n",
    "def hic_to_sparse(hic_mat):\n",
    "    adj_mat = np.triu(hic_mat)\n",
    "    sparse_adj = coo_matrix(adj_mat)\n",
    "\n",
    "    return utils.from_scipy_sparse_matrix(sparse_adj)\n",
    "\n",
    "hsr_edge_index, hsr_edge_attr = hic_to_sparse(hsr_hic)\n",
    "hsr_graph = torch_geometric.data.Data(edge_index = hsr_edge_index, edge_attr = hsr_edge_attr, x = hsr_feats, y = hsr_labels)\n",
    "\n",
    "ec_edge_index, ec_edge_attr = hic_to_sparse(ec_hic)\n",
    "ec_graph = torch_geometric.data.Data(edge_index = ec_edge_index, edge_attr = ec_edge_attr, x = ec_feats, y = ec_labels)\n",
    "\n",
    "x = torch.cat([ec_feats, hsr_feats], dim=0)\n",
    "hsr_edge_index = hsr_edge_index + ec_labels.shape[0]\n",
    "edge_index = torch.cat([ec_edge_index, hsr_edge_index], dim=1)\n",
    "edge_attr = torch.cat([ec_edge_attr, hsr_edge_attr], dim=0)\n",
    "labels = torch.cat([ec_labels, hsr_labels], dim=0)\n",
    "\n",
    "G = torch_geometric.data.Data(edge_index = edge_index, edge_attr = edge_attr, x = x, y = labels)"
   ]
  },
  {
   "cell_type": "code",
   "execution_count": 3,
   "id": "a812f1c8-5841-439c-bf5c-f735080b1cbc",
   "metadata": {},
   "outputs": [],
   "source": [
    "class GraphSAGE(nn.Module):\n",
    "    def __init__(self, num_feat, num_graph_conv_layers, graph_conv_layer_sizes, num_lin_layers, lin_hidden_sizes, num_classes):\n",
    "        super().__init__()\n",
    "        self.num_graph_conv_layers = num_graph_conv_layers\n",
    "        self.num_lin_layers = num_lin_layers\n",
    "        self.embeddings = None\n",
    "\n",
    "        if self.num_graph_conv_layers == 1:\n",
    "            self.conv1 = SAGEConv(graph_conv_layer_sizes[0], graph_conv_layer_sizes[1])\n",
    "        elif self.num_graph_conv_layers == 2:\n",
    "            self.conv1 = SAGEConv(graph_conv_layer_sizes[0], graph_conv_layer_sizes[1])\n",
    "            self.conv2 = SAGEConv(graph_conv_layer_sizes[1], graph_conv_layer_sizes[2])\n",
    "        elif self.num_graph_conv_layers == 3:\n",
    "            self.conv1 = SAGEConv(graph_conv_layer_sizes[0], graph_conv_layer_sizes[1])\n",
    "            self.conv2 = SAGEConv(graph_conv_layer_sizes[1], graph_conv_layer_sizes[2])\n",
    "            self.conv3 = SAGEConv(graph_conv_layer_sizes[2], graph_conv_layer_sizes[3])\n",
    "        \n",
    "        if self.num_lin_layers == 1:\n",
    "            self.lin1 = nn.Linear(lin_hidden_sizes[0], lin_hidden_sizes[1])\n",
    "        elif self.num_lin_layers == 2:\n",
    "            self.lin1 = nn.Linear(lin_hidden_sizes[0], lin_hidden_sizes[1])\n",
    "            self.lin2 = nn.Linear(lin_hidden_sizes[1], lin_hidden_sizes[2])\n",
    "        elif self.num_lin_layers == 3:\n",
    "            self.lin1 = nn.Linear(lin_hidden_sizes[0], lin_hidden_sizes[1])\n",
    "            self.lin2 = nn.Linear(lin_hidden_sizes[1], lin_hidden_sizes[2])\n",
    "            self.lin3 = nn.Linear(lin_hidden_sizes[2], lin_hidden_sizes[3])\n",
    "            \n",
    "        self.loss_calc = nn.CrossEntropyLoss()\n",
    "        self.torch_softmax = nn.Softmax(dim=1)\n",
    "\n",
    "    def forward(self, data):\n",
    "        x, edge_index, edge_attr = data.x, data.edge_index, data.edge_attr\n",
    "\n",
    "        ### Graph convolution module\n",
    "        if self.num_graph_conv_layers == 1:\n",
    "            h = self.conv1(x, edge_index)\n",
    "            h = torch.relu(h)\n",
    "        elif self.num_graph_conv_layers == 2:\n",
    "            h = self.conv1(x, edge_index)\n",
    "            h = torch.relu(h)\n",
    "            h = self.conv2(h, edge_index)\n",
    "            h = torch.relu(h)\n",
    "        elif self.num_graph_conv_layers == 3:\n",
    "            h = self.conv1(x, edge_index)\n",
    "            h = torch.relu(h)\n",
    "            h = self.conv2(h, edge_index)\n",
    "            h = torch.relu(h)\n",
    "            h = self.conv3(h, edge_index)\n",
    "            h = torch.relu(h)\n",
    "            \n",
    "        #h = F.dropout(h, p = self.dropout_value)\n",
    "        self.embeddings = h\n",
    "        scores = h\n",
    "        ### Linear module\n",
    "        if self.num_lin_layers == 0:\n",
    "            return scores\n",
    "        elif self.num_lin_layers == 1:\n",
    "            scores = self.lin1(scores)\n",
    "        elif self.num_lin_layers == 2:\n",
    "            scores = self.lin1(scores)\n",
    "            scores = torch.relu(scores)\n",
    "            scores = self.lin2(scores)\n",
    "        elif self.num_lin_layers == 3:\n",
    "            scores = self.lin1(scores)\n",
    "            scores = torch.relu(scores)\n",
    "            scores = self.lin2(scores)\n",
    "            scores = torch.relu(scores)\n",
    "            scores = self.lin3(scores)\n",
    "        \n",
    "        return scores\n",
    "\n",
    "    def loss(self, scores, labels):\n",
    "        xent_loss = self.loss_calc(scores, labels)\n",
    "        return xent_loss\n",
    "    \n",
    "    def calc_softmax_pred(self, scores):\n",
    "        softmax = self.torch_softmax(scores)\n",
    "        predicted = torch.argmax(softmax, 1)\n",
    "        return softmax, predicted\n",
    "\n",
    "    def get_embeddings(self):\n",
    "        if self.embeddings is not None:\n",
    "            return self.embeddings\n",
    "\n",
    "        print(\"Untrained Model: Please train model first\")\n",
    "        return None"
   ]
  },
  {
   "cell_type": "code",
   "execution_count": 4,
   "id": "77687067-6a34-4dc9-afb5-885a647a77a7",
   "metadata": {},
   "outputs": [
    {
     "data": {
      "text/plain": [
       "device(type='cuda')"
      ]
     },
     "execution_count": 4,
     "metadata": {},
     "output_type": "execute_result"
    }
   ],
   "source": [
    "# Check GPU\n",
    "device = torch.device(\"cuda\" if torch.cuda.is_available() else \"cpu\")\n",
    "device"
   ]
  },
  {
   "cell_type": "code",
   "execution_count": 5,
   "id": "ab7bb02b-5ec9-43f7-ac17-57cb00537a23",
   "metadata": {},
   "outputs": [],
   "source": [
    "# separate train/test sets\n",
    "def split_data(G, train_ratio=0.8, test_ratio=0.2, seed=42):\n",
    "    assert train_ratio + test_ratio == 1, \"Ratios must sum to 1.\"\n",
    "    \n",
    "    torch.manual_seed(seed)  # For reproducibility\n",
    "    \n",
    "    num_nodes = G.x.shape[0]  # Total number of nodes\n",
    "    indices = torch.randperm(num_nodes)  # Shuffle node indices randomly\n",
    "    \n",
    "    # Compute split size\n",
    "    train_size = int(train_ratio * num_nodes)\n",
    "    \n",
    "    # Assign indices to train and test sets\n",
    "    train_idx = indices[:train_size]\n",
    "    test_idx = indices[train_size:]\n",
    "\n",
    "    # Create boolean masks\n",
    "    train_mask = torch.zeros(num_nodes, dtype=torch.bool)\n",
    "    test_mask = torch.zeros(num_nodes, dtype=torch.bool)\n",
    "\n",
    "    train_mask[train_idx] = True\n",
    "    test_mask[test_idx] = True\n",
    "\n",
    "    # Attach masks to the graph\n",
    "    G.train_mask = train_mask\n",
    "    G.test_mask = test_mask\n",
    "\n",
    "    return G"
   ]
  },
  {
   "cell_type": "code",
   "execution_count": 16,
   "id": "17bd2c60-1d05-4684-aaf9-08b412e2123f",
   "metadata": {},
   "outputs": [],
   "source": [
    "# build train function with train/test split, build test function - condensed\n",
    "# implement early stopping\n",
    "def train(model, optimizer, graph, device):\n",
    "    model.train()\n",
    "    optimizer.zero_grad()\n",
    "    scores = model(graph)\n",
    "    loss = model.loss(scores[graph.train_mask], graph.y[graph.train_mask])\n",
    "    loss.backward()\n",
    "    optimizer.step()\n",
    "    \n",
    "    return loss.item(), scores\n",
    "\n",
    "def test(model, graph, device):\n",
    "    model.eval()\n",
    "    scores = model(graph)\n",
    "    softmax, predicted = model.calc_softmax_pred(scores)\n",
    "    accs = []\n",
    "    for mask in [graph.train_mask, graph.test_mask]:\n",
    "        correct = (predicted[mask] == graph.y[mask]).sum().item()\n",
    "        acc = correct / mask.sum().item()\n",
    "        accs.append(acc)\n",
    "    \n",
    "    return accs"
   ]
  },
  {
   "cell_type": "code",
   "execution_count": 39,
   "id": "f1342cc0-6c8a-48b0-8b71-c7365dea49f4",
   "metadata": {},
   "outputs": [],
   "source": [
    "# Model inputs + layer information\n",
    "num_features = G.num_node_features\n",
    "num_graph_sage_layers = 2\n",
    "num_classes = 2\n",
    "graph_sage_layer_sizes = [num_features,8,16]\n",
    "linear_layer_sizes = [16,8,num_classes]\n",
    "num_linear_layers = 2\n",
    "\n",
    "# Hyperparameters\n",
    "learning_rate = 0.01\n",
    "weight_decay = 5e-4\n",
    "num_epochs = 5000\n",
    "#dropout_value = 0.5\n",
    "\n",
    "# Initialize the model, optimizer, and send to device\n",
    "device = torch.device('cuda' if torch.cuda.is_available() else 'cpu')\n",
    "model = GraphSAGE(num_features, num_graph_sage_layers, graph_sage_layer_sizes, linear_layer_sizes, num_linear_layers, num_classes).to(device)\n",
    "optimizer = torch.optim.Adam(model.parameters(), lr=learning_rate, weight_decay=weight_decay)\n",
    "#model.dropout_value = dropout_value\n",
    "\n",
    "# Assign train and test masks to graph\n",
    "G.x = G.x.float()\n",
    "G.y = G.y.long()\n",
    "G = split_data(G)\n",
    "G = G.to(device)"
   ]
  },
  {
   "cell_type": "code",
   "execution_count": 42,
   "id": "41b7a473-67b0-47a8-9be2-8d5c0bf76bcd",
   "metadata": {},
   "outputs": [],
   "source": [
    "runs = []\n",
    "\n",
    "# Training loop - Entire graph in one model\n",
    "for _ in range(100):\n",
    "    model = GraphSAGE(num_features, num_graph_sage_layers, graph_sage_layer_sizes, linear_layer_sizes, num_linear_layers, num_classes).to(device)\n",
    "    optimizer = torch.optim.Adam(model.parameters(), lr=learning_rate, weight_decay=weight_decay)\n",
    "\n",
    "    G.x = G.x.float()\n",
    "    G.y = G.y.long()\n",
    "    G = split_data(G)\n",
    "    G = G.to(device)\n",
    "    \n",
    "    train_accs = []\n",
    "    test_accs = []\n",
    "    losses = []\n",
    "    for epoch in range(1, num_epochs + 1):\n",
    "        loss, score = train(model, optimizer, G, device)\n",
    "        train_acc, test_acc = test(model, G, device)\n",
    "        if epoch % 50 == 0:\n",
    "            losses.append(loss)\n",
    "            train_accs.append(train_acc)\n",
    "            test_accs.append(test_acc)\n",
    "    \n",
    "        #if epoch % 500 == 0 or epoch == num_epochs:\n",
    "            #print(f\"Epoch {epoch:03d}, Loss: {loss:.4f}, Train Acc: {train_acc:.4f}, Test Acc: {test_acc:.4f}\")\n",
    "        \n",
    "        # early stopping\n",
    "        if loss <= 0.28:\n",
    "            #print(f\"Epoch {epoch:03d}, Loss: {loss:.4f}, Train Acc: {train_acc:.4f}, Test Acc: {test_acc:.4f}\")\n",
    "            break\n",
    "    \n",
    "    runs.append([train_accs[-1], test_accs[-1], losses[-1]])"
   ]
  },
  {
   "cell_type": "code",
   "execution_count": 43,
   "id": "03234a0e-aa85-482d-97bc-98037f6ef287",
   "metadata": {},
   "outputs": [],
   "source": [
    "runs_arr = np.array(runs).T\n",
    "loss_100 = runs_arr[2]\n",
    "train_100 = runs_arr[0]\n",
    "test_100 = runs_arr[1]"
   ]
  },
  {
   "cell_type": "code",
   "execution_count": 44,
   "id": "87b99e28-d895-493c-b759-9fa81e0484b9",
   "metadata": {},
   "outputs": [
    {
     "data": {
      "text/plain": [
       "(array([ 4.,  2.,  4.,  1.,  1.,  1.,  0.,  0.,  7., 80.]),\n",
       " array([0.71072319, 0.73117207, 0.75162095, 0.77206983, 0.7925187 ,\n",
       "        0.81296758, 0.83341646, 0.85386534, 0.87431421, 0.89476309,\n",
       "        0.91521197]),\n",
       " <BarContainer object of 10 artists>)"
      ]
     },
     "execution_count": 44,
     "metadata": {},
     "output_type": "execute_result"
    },
    {
     "data": {
      "image/png": "[encoded data removed]",
      "text/plain": [
       "<Figure size 640x480 with 1 Axes>"
      ]
     },
     "metadata": {},
     "output_type": "display_data"
    }
   ],
   "source": [
    "plt.hist(train_100)"
   ]
  },
  {
   "cell_type": "code",
   "execution_count": 45,
   "id": "92b112fc-4663-444c-a705-f273aa3ae552",
   "metadata": {},
   "outputs": [
    {
     "data": {
      "text/plain": [
       "(array([ 5.,  2.,  3.,  0.,  1.,  2.,  1.,  4., 32., 50.]),\n",
       " array([0.69306931, 0.71287129, 0.73267327, 0.75247525, 0.77227723,\n",
       "        0.79207921, 0.81188119, 0.83168317, 0.85148515, 0.87128713,\n",
       "        0.89108911]),\n",
       " <BarContainer object of 10 artists>)"
      ]
     },
     "execution_count": 45,
     "metadata": {},
     "output_type": "execute_result"
    },
    {
     "data": {
      "image/png": "[encoded data removed]",
      "text/plain": [
       "<Figure size 640x480 with 1 Axes>"
      ]
     },
     "metadata": {},
     "output_type": "display_data"
    }
   ],
   "source": [
    "plt.hist(test_100)"
   ]
  },
  {
   "cell_type": "code",
   "execution_count": 27,
   "id": "dd791bde-259c-423d-abeb-bc4c37f112a7",
   "metadata": {},
   "outputs": [
    {
     "data": {
      "text/plain": [
       "(502, 16)"
      ]
     },
     "execution_count": 27,
     "metadata": {},
     "output_type": "execute_result"
    }
   ],
   "source": [
    "embeddings = model.get_embeddings().cpu().detach().numpy()\n",
    "embeddings.shape"
   ]
  },
  {
   "cell_type": "code",
   "execution_count": 28,
   "id": "c952fcc0-8084-4c17-ba80-7ff51cee97c1",
   "metadata": {},
   "outputs": [],
   "source": [
    "pca = PCA(n_components=2)\n",
    "pca_embeds = pca.fit_transform(embeddings)"
   ]
  },
  {
   "cell_type": "code",
   "execution_count": 29,
   "id": "e0de050a-8f6d-4702-98f9-a0f12eab87e5",
   "metadata": {},
   "outputs": [
    {
     "data": {
      "image/png": "[encoded data removed]",
      "text/plain": [
       "<Figure size 800x800 with 1 Axes>"
      ]
     },
     "metadata": {},
     "output_type": "display_data"
    }
   ],
   "source": [
    "ec_mask = (G.y == 1).cpu()\n",
    "\n",
    "plt.figure(figsize=(8,8))\n",
    "plt.scatter(pca_embeds[:, 0][ec_mask], pca_embeds[:, 1][ec_mask], color='red', label='ecDNA', alpha=0.7)\n",
    "plt.scatter(pca_embeds[:, 0][~ec_mask], pca_embeds[:, 1][~ec_mask], color='blue', label='HSR', alpha=0.7)\n",
    "plt.ylim(-100, 100)\n",
    "plt.legend()\n",
    "plt.savefig('sage_embeddings.png')\n",
    "plt.show()"
   ]
  },
  {
   "cell_type": "code",
   "execution_count": 12,
   "id": "540b9b10-3f1e-4d43-8492-31d0b2cd5a89",
   "metadata": {},
   "outputs": [
    {
     "ename": "NameError",
     "evalue": "name 'test_acc_runs' is not defined",
     "output_type": "error",
     "traceback": [
      "\u001b[0;31m---------------------------------------------------------------------------\u001b[0m",
      "\u001b[0;31mNameError\u001b[0m                                 Traceback (most recent call last)",
      "Cell \u001b[0;32mIn[12], line 2\u001b[0m\n\u001b[1;32m      1\u001b[0m \u001b[38;5;66;03m#test_acc_runs = []\u001b[39;00m\n\u001b[0;32m----> 2\u001b[0m \u001b[43mtest_acc_runs\u001b[49m\u001b[38;5;241m.\u001b[39mappend(test_accs)\n",
      "\u001b[0;31mNameError\u001b[0m: name 'test_acc_runs' is not defined"
     ]
    }
   ],
   "source": [
    "#test_acc_runs = []\n",
    "test_acc_runs.append(test_accs)"
   ]
  },
  {
   "cell_type": "code",
   "execution_count": null,
   "id": "3a1bbb57-44b5-41e2-8e7e-65b4e90c854f",
   "metadata": {},
   "outputs": [],
   "source": [
    "#loss_runs = []\n",
    "loss_runs.append(losses)"
   ]
  },
  {
   "cell_type": "code",
   "execution_count": null,
   "id": "72faf4ed-f33b-416d-8438-3a4762fcdf44",
   "metadata": {},
   "outputs": [],
   "source": [
    "plt.figure(figsize=(8, 8))\n",
    "for i, row in enumerate(test_acc_runs):\n",
    "    plt.plot(row, label=f\"Run {i+1}\")\n",
    "\n",
    "plt.xlabel(\"Epochs (x50)\")\n",
    "plt.ylabel(\"Test Accuracy\")\n",
    "plt.title(\"Test Accuracy Across 5 GraphSAGE Runs\")\n",
    "plt.legend()\n",
    "plt.savefig('sage_acc.png')\n",
    "plt.show()"
   ]
  },
  {
   "cell_type": "code",
   "execution_count": null,
   "id": "ef897a56-60d8-4ba6-b573-092b2cb43dd8",
   "metadata": {},
   "outputs": [],
   "source": [
    "plt.figure(figsize=(8, 8))\n",
    "for i, row in enumerate(loss_runs):\n",
    "    plt.plot(row, label=f\"Run {i+1}\")\n",
    "\n",
    "plt.xlabel(\"Epochs (x50)\")\n",
    "plt.ylabel(\"Loss\")\n",
    "plt.title(\"Loss Across 5 GraphSAGE Runs\")\n",
    "plt.legend()\n",
    "plt.savefig('sage_loss.png')\n",
    "plt.show()"
   ]
  },
  {
   "cell_type": "code",
   "execution_count": null,
   "id": "53fb7d89-bacc-42ec-88b5-928f7f60a8cf",
   "metadata": {},
   "outputs": [],
   "source": []
  }
 ],
 "metadata": {
  "kernelspec": {
   "display_name": "Python 3 (ipykernel)",
   "language": "python",
   "name": "python3"
  },
  "language_info": {
   "codemirror_mode": {
    "name": "ipython",
    "version": 3
   },
   "file_extension": ".py",
   "mimetype": "text/x-python",
   "name": "python",
   "nbconvert_exporter": "python",
   "pygments_lexer": "ipython3",
   "version": "3.11.9"
  }
 },
 "nbformat": 4,
 "nbformat_minor": 5
}
