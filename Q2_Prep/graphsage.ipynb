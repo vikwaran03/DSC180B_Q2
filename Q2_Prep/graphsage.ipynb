{
 "cells": [
  {
   "cell_type": "code",
   "execution_count": 36,
   "id": "ef17955c-2f92-431c-98ef-3d9f30af62a9",
   "metadata": {},
   "outputs": [],
   "source": [
    "import random\n",
    "import torch\n",
    "import torch_geometric\n",
    "from torch_geometric import utils\n",
    "from torch_geometric.nn import SAGEConv, MessagePassing\n",
    "from torch_geometric.typing import Adj, OptPairTensor, Size\n",
    "from torch_sparse import SparseTensor, matmul\n",
    "import torch.nn as nn\n",
    "import torch.nn.functional as F\n",
    "from torch import Tensor\n",
    "\n",
    "from scipy.sparse import coo_matrix\n",
    "import pandas as pd\n",
    "import numpy as np\n",
    "\n",
    "from typing import Union, Tuple\n",
    "\n",
    "import matplotlib.pyplot as plt\n",
    "from sklearn.decomposition import PCA"
   ]
  },
  {
   "cell_type": "code",
   "execution_count": 37,
   "id": "cfbdfe9e-100c-4543-bfa0-fdc4debb1a46",
   "metadata": {},
   "outputs": [
    {
     "data": {
      "text/plain": [
       "device(type='cuda')"
      ]
     },
     "execution_count": 37,
     "metadata": {},
     "output_type": "execute_result"
    }
   ],
   "source": [
    "device = torch.device(\"cuda\" if torch.cuda.is_available() else \"cpu\")\n",
    "device"
   ]
  },
  {
   "cell_type": "code",
   "execution_count": 38,
   "id": "7843660e-66d2-4f1a-a69f-9e71c7ce91ee",
   "metadata": {},
   "outputs": [],
   "source": [
    "seed = 42\n",
    "torch.manual_seed(seed)\n",
    "np.random.seed(seed)\n",
    "random.seed(seed)\n",
    "if torch.cuda.is_available():\n",
    "    torch.cuda.manual_seed(seed)\n",
    "    torch.cuda.manual_seed_all(seed)"
   ]
  },
  {
   "cell_type": "code",
   "execution_count": 39,
   "id": "11552b83-cc4d-4748-b697-0d8682700fb4",
   "metadata": {},
   "outputs": [],
   "source": [
    "# ec_hic = np.load('data/GBM39ec_5k_collapsed_matrix.npy')\n",
    "# hsr_hic = np.load('data/GBM39HSR_5k_collapsed_matrix.npy')\n",
    "\n",
    "ec_hic = np.load('data/ec_adj_mat.npy')\n",
    "hsr_hic = np.load('data/hsr_adj_mat.npy')"
   ]
  },
  {
   "cell_type": "code",
   "execution_count": 40,
   "id": "ec03cda7-007f-4475-9825-265fccba90b3",
   "metadata": {},
   "outputs": [],
   "source": [
    "ec_df = pd.read_csv('data/ec_cleaned.csv')\n",
    "hsr_df = pd.read_csv('data/hsr_cleaned.csv')"
   ]
  },
  {
   "cell_type": "code",
   "execution_count": 41,
   "id": "66ee6f8e-3dea-4949-8029-e97296c44222",
   "metadata": {},
   "outputs": [],
   "source": [
    "hsr_feats = torch.tensor(hsr_df[['read_count', 'total_genes']].to_numpy())\n",
    "hsr_labels = torch.zeros(hsr_feats.shape[0])\n",
    "\n",
    "ec_feats = torch.tensor(ec_df[['read_count', 'total_genes']].to_numpy())\n",
    "ec_labels = torch.ones(ec_feats.shape[0])"
   ]
  },
  {
   "cell_type": "code",
   "execution_count": 42,
   "id": "0adb0e88-ec0d-4a05-b5f5-380740f012ad",
   "metadata": {},
   "outputs": [],
   "source": [
    "def hic_to_sparse(hic_mat):\n",
    "    #adj_mat = np.triu(hic_mat)\n",
    "    sparse_adj = coo_matrix(hic_mat)\n",
    "\n",
    "    return utils.from_scipy_sparse_matrix(sparse_adj)"
   ]
  },
  {
   "cell_type": "code",
   "execution_count": 43,
   "id": "14a2a713-c912-4fee-a5e0-37363d090702",
   "metadata": {},
   "outputs": [],
   "source": [
    "hsr_edge_index, hsr_edge_attr = hic_to_sparse(hsr_hic)\n",
    "hsr_graph = torch_geometric.data.Data(edge_index = hsr_edge_index, edge_attr = hsr_edge_attr, x = hsr_feats, y = hsr_labels)\n",
    "\n",
    "ec_edge_index, ec_edge_attr = hic_to_sparse(ec_hic)\n",
    "ec_graph = torch_geometric.data.Data(edge_index = ec_edge_index, edge_attr = ec_edge_attr, x = ec_feats, y = ec_labels)"
   ]
  },
  {
   "cell_type": "code",
   "execution_count": 44,
   "id": "3e94bb39-1476-41b7-8bba-3564bda49fb9",
   "metadata": {},
   "outputs": [],
   "source": [
    "x = torch.cat([ec_feats, hsr_feats], dim=0)\n",
    "hsr_edge_index = hsr_edge_index + ec_labels.shape[0]\n",
    "edge_index = torch.cat([ec_edge_index, hsr_edge_index], dim=1)\n",
    "edge_attr = torch.cat([ec_edge_attr, hsr_edge_attr], dim=0)\n",
    "edge_index, edge_attr = utils.to_undirected(edge_index, edge_attr)\n",
    "labels = torch.cat([ec_labels, hsr_labels], dim=0)\n",
    "\n",
    "G = torch_geometric.data.Data(edge_index = edge_index, edge_attr = edge_attr, x = x, y = labels)"
   ]
  },
  {
   "cell_type": "code",
   "execution_count": 45,
   "id": "e9564c5c-539a-4d31-b07a-87b0fd46decd",
   "metadata": {},
   "outputs": [],
   "source": [
    "class SAGEConvCat(MessagePassing):\n",
    "    def __init__(\n",
    "        self,\n",
    "        in_channels: Union[int, Tuple[int, int]],\n",
    "        out_channels: int,\n",
    "        aggr: str = \"mean\",\n",
    "        normalize: bool = False,\n",
    "        root_weight: bool = True,\n",
    "        project: bool = False,\n",
    "        bias: bool = True,\n",
    "        **kwargs,\n",
    "    ):\n",
    "        \n",
    "        self.in_channels = in_channels\n",
    "        self.out_channels = out_channels\n",
    "        self.normalize = normalize\n",
    "        self.root_weight = root_weight\n",
    "        self.project = project\n",
    "\n",
    "        if isinstance(in_channels, int):\n",
    "            in_channels = (in_channels, in_channels)\n",
    "\n",
    "        super().__init__(aggr, **kwargs)\n",
    "\n",
    "        aggr_out_channels = in_channels[0]\n",
    "\n",
    "        self.lin_l = nn.Linear(aggr_out_channels, out_channels, bias=bias)\n",
    "        if self.root_weight:\n",
    "            self.lin_r = nn.Linear(in_channels[1], out_channels, bias=False)\n",
    "\n",
    "        self.reset_parameters()\n",
    "\n",
    "    def reset_parameters(self):\n",
    "        super().reset_parameters()\n",
    "        self.lin_l.reset_parameters()\n",
    "        \n",
    "        if self.root_weight:\n",
    "            self.lin_r.reset_parameters()\n",
    "\n",
    "    def forward(self, x: Union[Tensor, OptPairTensor], edge_index: Adj, edge_attr: Tensor, size: Size = None) -> Tensor:\n",
    "        if isinstance(x, Tensor):\n",
    "            x = (x, x)\n",
    "\n",
    "        if self.project and hasattr(self, 'lin'):\n",
    "            x = (self.lin(x[0]).relu(), x[1])\n",
    "\n",
    "        edge_attr = torch.log1p(edge_attr.float())\n",
    "\n",
    "        out = self.propagate(edge_index, x=x, size=size, edge_attr=edge_attr)\n",
    "        out = self.lin_l(out)\n",
    "\n",
    "        x_r = x[1]\n",
    "        if self.root_weight and x_r is not None:\n",
    "            out = out + self.lin_r(x_r)\n",
    "\n",
    "        if self.normalize:\n",
    "            out = F.normalize(out, p=2., dim=-1)\n",
    "\n",
    "        return out\n",
    "\n",
    "    def message(self, x_j: Tensor, edge_attr: Tensor) -> Tensor:\n",
    "        return x_j #* edge_attr.view(-1, 1)\n",
    "\n",
    "    def message_and_aggregate(self, adj_t: Adj, x: OptPairTensor) -> Tensor:\n",
    "        if isinstance(adj_t, SparseTensor):\n",
    "            adj_t = adj_t.set_value(None, layout=None)\n",
    "            \n",
    "        return spmm(adj_t, x[0], reduce=self.aggr)\n",
    "\n",
    "    def __repr__(self) -> str:\n",
    "        return (f'{self.__class__.__name__}({self.in_channels}, '\n",
    "                f'{self.out_channels}, aggr={self.aggr})')\n",
    "    \n"
   ]
  },
  {
   "cell_type": "code",
   "execution_count": 46,
   "id": "73fa2a62-0ac6-4610-b525-e9e7af08c01e",
   "metadata": {},
   "outputs": [],
   "source": [
    "class GraphSAGE(nn.Module):\n",
    "    def __init__(self, num_feat, graph_conv_layer_sizes, lin_hidden_sizes, num_classes):\n",
    "        super().__init__()\n",
    "        self.embeds = None\n",
    "\n",
    "        self.conv1 = SAGEConvCat(graph_conv_layer_sizes[0], graph_conv_layer_sizes[1])\n",
    "        #self.conv2 = SAGEConvCat(graph_conv_layer_sizes[1], graph_conv_layer_sizes[2])\n",
    "        #self.conv3 = SAGEConvCat(graph_conv_layer_sizes[2], graph_conv_layer_sizes[3])\n",
    "        \n",
    "        self.lin1 = nn.Linear(lin_hidden_sizes[0], lin_hidden_sizes[1])\n",
    "        #self.lin2 = nn.Linear(lin_hidden_sizes[1], lin_hidden_sizes[2])\n",
    "        #self.lin3 = nn.Linear(lin_hidden_sizes[2], lin_hidden_sizes[3])\n",
    "            \n",
    "        self.loss_calc = nn.CrossEntropyLoss()\n",
    "        self.torch_softmax = nn.Softmax(dim=1)\n",
    "\n",
    "        self.reset_parameters()\n",
    "\n",
    "    def forward(self, data):\n",
    "        x, edge_index, edge_attr = data.x, data.edge_index, data.edge_attr\n",
    "\n",
    "        h = self.conv1(x, edge_index, edge_attr)\n",
    "        h = torch.relu(h)\n",
    "        #h = self.conv2(h, edge_index, edge_attr)\n",
    "        #h = torch.relu(h)\n",
    "        #h = self.conv3(h, edge_index, edge_attr)\n",
    "        #h = torch.relu(h)\n",
    "\n",
    "        self.embeds = h\n",
    "            \n",
    "        scores = h\n",
    "        scores = self.lin1(scores)\n",
    "        # scores = torch.relu(scores)\n",
    "        # scores = self.lin2(scores)\n",
    "        # scores = torch.relu(scores)\n",
    "        # scores = self.lin3(scores)\n",
    "        \n",
    "        return scores\n",
    "\n",
    "    def loss(self, scores, labels):\n",
    "        xent_loss = self.loss_calc(scores, labels)\n",
    "        return xent_loss\n",
    "\n",
    "    def calc_softmax_pred(self, scores):\n",
    "        softmax = self.torch_softmax(scores)\n",
    "        predicted = torch.argmax(softmax, 1)\n",
    "        return softmax, predicted\n",
    "\n",
    "    def get_embeds(self):\n",
    "        if self.embeds is not None:\n",
    "            return self.embeds\n",
    "\n",
    "        print(\"Untrained Model: Please train model first\")\n",
    "        return None\n",
    "\n",
    "    def reset_parameters(self):\n",
    "        for module in self.modules():\n",
    "            if isinstance(module, nn.Linear):\n",
    "                torch.nn.init.xavier_uniform_(module.weight)\n",
    "                if module.bias is not None:\n",
    "                    module.bias.data.fill_(0)\n",
    "    "
   ]
  },
  {
   "cell_type": "code",
   "execution_count": 47,
   "id": "8f7bd4aa-0cd5-416a-a097-c8e712f51bcc",
   "metadata": {},
   "outputs": [],
   "source": [
    "def split_data(G, train_ratio=0.8, test_ratio=0.2):\n",
    "    assert train_ratio + test_ratio == 1, \"Ratios must sum to 1.\"\n",
    "    \n",
    "    num_nodes = G.x.shape[0]  # Total number of nodes\n",
    "    indices = torch.randperm(num_nodes)  # Shuffle node indices randomly\n",
    "    \n",
    "    # Compute split size\n",
    "    train_size = int(train_ratio * num_nodes)\n",
    "    \n",
    "    # Assign indices to train and test sets\n",
    "    train_idx = indices[:train_size]\n",
    "    test_idx = indices[train_size:]\n",
    "\n",
    "    # Create boolean masks\n",
    "    train_mask = torch.zeros(num_nodes, dtype=torch.bool)\n",
    "    test_mask = torch.zeros(num_nodes, dtype=torch.bool)\n",
    "\n",
    "    train_mask[train_idx] = True\n",
    "    test_mask[test_idx] = True\n",
    "\n",
    "    # Attach masks to the graph\n",
    "    G.train_mask = train_mask\n",
    "    G.test_mask = test_mask\n",
    "\n",
    "    return G"
   ]
  },
  {
   "cell_type": "code",
   "execution_count": 48,
   "id": "9cd59b86-2141-4eb0-bd97-ff4476587a89",
   "metadata": {},
   "outputs": [],
   "source": [
    "def train(model, optimizer, graph, device):\n",
    "    model.train()\n",
    "    optimizer.zero_grad()\n",
    "    scores = model(graph)\n",
    "    loss = model.loss(scores[graph.train_mask], graph.y[graph.train_mask])\n",
    "    loss.backward()\n",
    "    optimizer.step()\n",
    "    \n",
    "    return loss.item(), scores\n",
    "\n",
    "def test(model, graph, device):\n",
    "    model.eval()\n",
    "    scores = model(graph)\n",
    "    softmax, predicted = model.calc_softmax_pred(scores)\n",
    "    accs = []\n",
    "    for mask in [graph.train_mask, graph.test_mask]:\n",
    "        correct = (predicted[mask] == graph.y[mask]).sum().item()\n",
    "        acc = correct / mask.sum().item()\n",
    "        accs.append(acc)\n",
    "    \n",
    "    return tuple(accs)"
   ]
  },
  {
   "cell_type": "code",
   "execution_count": 51,
   "id": "bd199e90-c517-4476-af20-9dc2142ac79d",
   "metadata": {},
   "outputs": [],
   "source": [
    "num_features = G.num_node_features\n",
    "num_classes = 2\n",
    "graph_sage_layer_sizes = [num_features,8]\n",
    "linear_layer_sizes = [8, num_classes]\n",
    "\n",
    "# Hyperparameters\n",
    "learning_rate = 0.001\n",
    "weight_decay = 5e-4\n",
    "num_epochs = 1500\n",
    "#dropout_value = 0.5\n",
    "\n",
    "# Initialize the model, optimizer, and send to device\n",
    "device = torch.device('cuda' if torch.cuda.is_available() else 'cpu')\n",
    "model = GraphSAGE(num_features, graph_sage_layer_sizes, linear_layer_sizes, num_classes).to(device)\n",
    "optimizer = torch.optim.Adam(model.parameters(), lr=learning_rate)\n",
    "#scheduler = torch.optim.lr_scheduler.StepLR(optimizer, step_size=400, gamma=0.5)\n",
    "#model.dropout_value = dropout_value\n",
    "\n",
    "# Assign train and test masks to graph\n",
    "G.x = G.x.float()\n",
    "G.y = G.y.long()\n",
    "G = split_data(G)\n",
    "G = G.to(device)"
   ]
  },
  {
   "cell_type": "code",
   "execution_count": 52,
   "id": "5e74b325-8f51-450a-a989-510c105f01b3",
   "metadata": {
    "scrolled": true
   },
   "outputs": [
    {
     "name": "stdout",
     "output_type": "stream",
     "text": [
      "Epoch 100, Loss: 1500.7577, Train Acc: 0.4838, Test Acc: 0.5644\n",
      "Epoch 200, Loss: 115.6699, Train Acc: 0.4988, Test Acc: 0.3762\n",
      "Epoch 300, Loss: 32.7164, Train Acc: 0.4963, Test Acc: 0.3861\n",
      "Epoch 400, Loss: 3.1818, Train Acc: 0.5037, Test Acc: 0.5545\n",
      "Epoch 500, Loss: 2.7714, Train Acc: 0.5237, Test Acc: 0.5842\n",
      "Epoch 600, Loss: 2.9900, Train Acc: 0.5287, Test Acc: 0.4059\n",
      "Epoch 700, Loss: 2.3165, Train Acc: 0.5237, Test Acc: 0.4356\n",
      "Epoch 800, Loss: 1.8013, Train Acc: 0.5561, Test Acc: 0.5743\n",
      "Epoch 900, Loss: 1.2245, Train Acc: 0.5112, Test Acc: 0.4356\n",
      "Epoch 1000, Loss: 2.8950, Train Acc: 0.5187, Test Acc: 0.4059\n",
      "Epoch 1100, Loss: 0.9993, Train Acc: 0.5436, Test Acc: 0.5644\n",
      "Epoch 1200, Loss: 1.6176, Train Acc: 0.5162, Test Acc: 0.6139\n",
      "Epoch 1300, Loss: 1.5703, Train Acc: 0.5187, Test Acc: 0.4356\n",
      "Epoch 1400, Loss: 1.6609, Train Acc: 0.5262, Test Acc: 0.4059\n",
      "Epoch 1500, Loss: 0.9278, Train Acc: 0.5162, Test Acc: 0.6139\n"
     ]
    }
   ],
   "source": [
    "train_accs = []\n",
    "test_accs = []\n",
    "\n",
    "# Training loop - Entire graph in one model\n",
    "for epoch in range(1, num_epochs + 1):\n",
    "    loss, _ = train(model, optimizer, G, device)\n",
    "    train_acc, test_acc = test(model, G, device)\n",
    "    train_accs.append(train_acc)\n",
    "    test_accs.append(test_acc)\n",
    "    \n",
    "    if epoch % 100 == 0 or epoch == num_epochs:\n",
    "        print(f\"Epoch {epoch:03d}, Loss: {loss:.4f}, Train Acc: {train_acc:.4f}, Test Acc: {test_acc:.4f}\")"
   ]
  },
  {
   "cell_type": "code",
   "execution_count": 32,
   "id": "90d80d15-0e3e-4fc1-887c-37c5902f906b",
   "metadata": {},
   "outputs": [
    {
     "data": {
      "text/plain": [
       "(502, 2)"
      ]
     },
     "execution_count": 32,
     "metadata": {},
     "output_type": "execute_result"
    }
   ],
   "source": [
    "from sklearn.decomposition import PCA\n",
    "\n",
    "embeds = model.get_embeds().detach().cpu()\n",
    "pca = PCA(n_components=2)\n",
    "pca_embeds = pca.fit_transform(embeds)\n",
    "pca_embeds.shape"
   ]
  },
  {
   "cell_type": "code",
   "execution_count": 33,
   "id": "368982fc-4d4b-4cec-a448-5472734d343d",
   "metadata": {},
   "outputs": [
    {
     "data": {
      "image/png": "[encoded data removed]",
      "text/plain": [
       "<Figure size 1000x1000 with 1 Axes>"
      ]
     },
     "metadata": {},
     "output_type": "display_data"
    }
   ],
   "source": [
    "ec_mask = (G.y == 1).cpu()\n",
    "\n",
    "plt.figure(figsize=(10,10))\n",
    "plt.scatter(pca_embeds[:, 0][ec_mask], pca_embeds[:, 1][ec_mask], color='red', label='ecDNA', alpha=0.7)\n",
    "plt.scatter(pca_embeds[:, 0][~ec_mask], pca_embeds[:, 1][~ec_mask], color='blue', label='HSR', alpha=0.7)\n",
    "plt.ylim(-400, 1000)\n",
    "plt.legend()\n",
    "plt.show()"
   ]
  },
  {
   "cell_type": "code",
   "execution_count": 34,
   "id": "67073dd1-7ba6-48d7-b168-6fd009b628ea",
   "metadata": {},
   "outputs": [
    {
     "data": {
      "image/png": "[encoded data removed]",
      "text/plain": [
       "<Figure size 1000x1000 with 1 Axes>"
      ]
     },
     "metadata": {},
     "output_type": "display_data"
    }
   ],
   "source": [
    "plt.figure(figsize=(10,10))\n",
    "plt.scatter(pca_embeds[:, 0][ec_mask], pca_embeds[:, 1][ec_mask], color='red', label='ecDNA', alpha=0.5)\n",
    "plt.scatter(pca_embeds[:, 0][~ec_mask], pca_embeds[:, 1][~ec_mask], color='blue', label='HSR', alpha=0.5)\n",
    "plt.legend()\n",
    "plt.show()"
   ]
  },
  {
   "cell_type": "code",
   "execution_count": null,
   "id": "b0ab45d0-b7bf-4afa-8c5d-5b181e342ba3",
   "metadata": {},
   "outputs": [],
   "source": []
  }
 ],
 "metadata": {
  "kernelspec": {
   "display_name": "Python 3 (ipykernel)",
   "language": "python",
   "name": "python3"
  },
  "language_info": {
   "codemirror_mode": {
    "name": "ipython",
    "version": 3
   },
   "file_extension": ".py",
   "mimetype": "text/x-python",
   "name": "python",
   "nbconvert_exporter": "python",
   "pygments_lexer": "ipython3",
   "version": "3.11.9"
  }
 },
 "nbformat": 4,
 "nbformat_minor": 5
}
