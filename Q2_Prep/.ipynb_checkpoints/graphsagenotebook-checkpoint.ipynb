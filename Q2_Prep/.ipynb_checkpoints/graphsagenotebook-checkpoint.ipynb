{
 "cells": [
  {
   "cell_type": "code",
   "execution_count": 6,
   "id": "560b8c14-1449-42dd-9d62-72e21cd4c7f4",
   "metadata": {},
   "outputs": [],
   "source": [
    "import torch\n",
    "import torch_geometric\n",
    "from torch_geometric import utils\n",
    "from scipy.sparse import coo_matrix\n",
    "import pandas as pd\n",
    "import numpy as np"
   ]
  },
  {
   "cell_type": "code",
   "execution_count": null,
   "id": "79264b7b-3d7e-49c1-8ebb-e42d101ecf64",
   "metadata": {},
   "outputs": [],
   "source": [
    "# don't run - cell containing code for combining graph to two subparts with offset\n",
    "G_ec = nx.read_graphml(\"ec_graph.graphml\")\n",
    "G_hsr = nx.read_graphml(\"hsr_graph.graphml\")\n",
    "ec_graph = from_networkx(G_ec)\n",
    "hsr_graph = from_networkx(G_hsr)\n",
    "\n",
    "# Shift node indices of ec Graph to ensure disjointness\n",
    "offset = ec_graph.x.size(0)  # Number of nodes in ec graph \n",
    "edge_index_ec = edge_index_ec + offset\n",
    "\n",
    "# Combine edge indices and node features\n",
    "combined_edge_index = torch.cat([hsr_graph.edge_index, edge_index_ec], dim=1)\n",
    "combined_x = torch.cat([hsr_graph.x, ec_graph.x], dim=0)\n",
    "\n",
    "# Create a new Data object for the combined graph\n",
    "combined_graph = Data(edge_index=combined_edge_index, x=combined_x)"
   ]
  },
  {
   "cell_type": "code",
   "execution_count": 7,
   "id": "00b14929-cddb-4497-b680-9092a736cec9",
   "metadata": {},
   "outputs": [],
   "source": [
    "ec_hic = np.load('data/GBM39ec_5k_collapsed_matrix.npy')\n",
    "hsr_hic = np.load('data/GBM39HSR_5k_collapsed_matrix.npy')"
   ]
  },
  {
   "cell_type": "code",
   "execution_count": 8,
   "id": "c3b90d67-4749-4060-a724-92d405a23a3b",
   "metadata": {},
   "outputs": [],
   "source": [
    "ec_df = pd.read_csv('data/ec_cleaned.csv')\n",
    "hsr_df = pd.read_csv('data/hsr_cleaned.csv')"
   ]
  },
  {
   "cell_type": "code",
   "execution_count": 9,
   "id": "44c30162-fe97-423e-9a39-ad1141bdc043",
   "metadata": {},
   "outputs": [],
   "source": [
    "hsr_feats = torch.tensor(hsr_df[['read_count', 'total_genes']].to_numpy())\n",
    "hsr_labels = torch.zeros(hsr_feats.shape[0])\n",
    "\n",
    "ec_feats = torch.tensor(ec_df[['read_count', 'total_genes']].to_numpy())\n",
    "ec_labels = torch.ones(ec_feats.shape[0])"
   ]
  },
  {
   "cell_type": "code",
   "execution_count": 10,
   "id": "90b7f47d-1afc-49c3-bc03-5c63223cd38e",
   "metadata": {},
   "outputs": [],
   "source": [
    "def hic_to_sparse(hic_mat):\n",
    "    adj_mat = np.triu(hic_mat)\n",
    "    sparse_adj = coo_matrix(adj_mat)\n",
    "\n",
    "    return utils.from_scipy_sparse_matrix(sparse_adj)"
   ]
  },
  {
   "cell_type": "code",
   "execution_count": 11,
   "id": "f86d54f0-d048-48f9-857d-6fcc958d3c93",
   "metadata": {},
   "outputs": [],
   "source": [
    "hsr_edge_index, hsr_edge_attr = hic_to_sparse(hsr_hic)\n",
    "hsr_graph = torch_geometric.data.Data(edge_index = hsr_edge_index, edge_attr = hsr_edge_attr, x = hsr_feats, y = hsr_labels)\n",
    "\n",
    "ec_edge_index, ec_edge_attr = hic_to_sparse(ec_hic)\n",
    "ec_graph = torch_geometric.data.Data(edge_index = ec_edge_index, edge_attr = ec_edge_attr, x = ec_feats, y = ec_labels)"
   ]
  },
  {
   "cell_type": "code",
   "execution_count": 12,
   "id": "13d8567c-a615-4a6e-8786-15d1a6cb1388",
   "metadata": {},
   "outputs": [],
   "source": [
    "x = torch.cat([ec_feats, hsr_feats], dim=0)\n",
    "hsr_edge_index = hsr_edge_index + ec_labels.shape[0]\n",
    "edge_index = torch.cat([ec_edge_index, hsr_edge_index], dim=1)\n",
    "edge_attr = torch.cat([ec_edge_attr, hsr_edge_attr], dim=0)\n",
    "labels = torch.cat([ec_labels, hsr_labels], dim=0)\n",
    "\n",
    "G = torch_geometric.data.Data(edge_index = edge_index, edge_attr = edge_attr, x = x, y = labels)"
   ]
  },
  {
   "cell_type": "code",
   "execution_count": 14,
   "id": "3cebc84a-7fb8-49a2-b6b8-4be432246fce",
   "metadata": {},
   "outputs": [],
   "source": [
    "from torch_geometric.nn import SAGEConv\n",
    "import torch.nn as nn\n",
    "import torch.nn.functional as F"
   ]
  },
  {
   "cell_type": "code",
   "execution_count": 16,
   "id": "8f70a877-c4fb-4bc0-9287-9c0c9d0cdbbb",
   "metadata": {},
   "outputs": [],
   "source": [
    "class GraphSAGE(nn.Module):\n",
    "    def __init__(self, num_feat, num_graph_conv_layers, graph_conv_layer_sizes, num_lin_layers, lin_hidden_sizes, num_classes):\n",
    "        super().__init__()\n",
    "        self.num_graph_conv_layers = num_graph_conv_layers\n",
    "        self.num_lin_layers = num_lin_layers\n",
    "\n",
    "        if self.num_graph_conv_layers == 1:\n",
    "            self.conv1 = SAGEConv(graph_conv_layer_sizes[0], graph_conv_layer_sizes[1])\n",
    "        elif self.num_graph_conv_layers == 2:\n",
    "            self.conv1 = SAGEConv(graph_conv_layer_sizes[0], graph_conv_layer_sizes[1])\n",
    "            self.conv2 = SAGEConv(graph_conv_layer_sizes[1], graph_conv_layer_sizes[2])\n",
    "        elif self.num_graph_conv_layers == 3:\n",
    "            self.conv1 = SAGEConv(graph_conv_layer_sizes[0], graph_conv_layer_sizes[1])\n",
    "            self.conv2 = SAGEConv(graph_conv_layer_sizes[1], graph_conv_layer_sizes[2])\n",
    "            self.conv3 = SAGEConv(graph_conv_layer_sizes[2], graph_conv_layer_sizes[3])\n",
    "        \n",
    "        if self.num_lin_layers == 1:\n",
    "            self.lin1 = nn.Linear(lin_hidden_sizes[0], lin_hidden_sizes[1])\n",
    "        elif self.num_lin_layers == 2:\n",
    "            self.lin1 = nn.Linear(lin_hidden_sizes[0], lin_hidden_sizes[1])\n",
    "            self.lin2 = nn.Linear(lin_hidden_sizes[1], lin_hidden_sizes[2])\n",
    "        elif self.num_lin_layers == 3:\n",
    "            self.lin1 = nn.Linear(lin_hidden_sizes[0], lin_hidden_sizes[1])\n",
    "            self.lin2 = nn.Linear(lin_hidden_sizes[1], lin_hidden_sizes[2])\n",
    "            self.lin3 = nn.Linear(lin_hidden_sizes[2], lin_hidden_sizes[3])\n",
    "            \n",
    "        self.loss_calc = nn.CrossEntropyLoss()\n",
    "        self.torch_softmax = nn.Softmax(dim=1)\n",
    "\n",
    "    def forward(self, data):\n",
    "        x, edge_index, edge_attr = data.x, data.edge_index, data.edge_attr\n",
    "\n",
    "        ### Graph convolution module\n",
    "        if self.num_graph_conv_layers == 1:\n",
    "            h = self.conv1(x, edge_index)\n",
    "            h = torch.relu(h)\n",
    "        elif self.num_graph_conv_layers == 2:\n",
    "            h = self.conv1(x, edge_index)\n",
    "            h = torch.relu(h)\n",
    "            h = self.conv2(h, edge_index)\n",
    "            h = torch.relu(h)\n",
    "        elif self.num_graph_conv_layers == 3:\n",
    "            h = self.conv1(x, edge_index)\n",
    "            h = torch.relu(h)\n",
    "            h = self.conv2(h, edge_index)\n",
    "            h = torch.relu(h)\n",
    "            h = self.conv3(h, edge_index)\n",
    "            h = torch.relu(h)\n",
    "            \n",
    "        h = F.dropout(h, p = self.dropout_value)\n",
    "\n",
    "        ### Linear module\n",
    "        if self.num_lin_layers == 1:\n",
    "            scores = self.lin1(h)\n",
    "        elif self.num_lin_layers == 2:\n",
    "            scores = self.lin1(h)\n",
    "            scores = torch.relu(scores)\n",
    "            scores = self.lin2(scores)\n",
    "        elif self.num_lin_layers == 3:\n",
    "            scores = self.lin1(h)\n",
    "            scores = torch.relu(scores)\n",
    "            scores = self.lin2(scores)\n",
    "            scores = torch.relu(scores)\n",
    "            scores = self.lin3(scores)\n",
    "        \n",
    "        return scores\n",
    "\n",
    "    def loss(self, scores, labels):\n",
    "        xent_loss = self.loss_calc(scores, labels)\n",
    "        return xent_loss\n",
    "    \n",
    "    \n",
    "    def calc_softmax_pred(self, scores):\n",
    "        softmax = self.torch_softmax(scores)\n",
    "        predicted = torch.argmax(softmax, 1)\n",
    "        return softmax, predicted"
   ]
  },
  {
   "cell_type": "code",
   "execution_count": 19,
   "id": "ba3cfca1-f59e-4016-abef-d5c5e59510b0",
   "metadata": {},
   "outputs": [],
   "source": [
    "num_graph_sage_layers = 2\n",
    "graph_sage_layer_sizes = [2,6,12]\n",
    "linear_layer_sizes = [12,6,2]\n",
    "num_linear_layers = 2\n",
    "num_classes = 2\n",
    "\n",
    "model = GraphSAGE(G.num_node_features, num_graph_sage_layers, graph_sage_layer_sizes, linear_layer_sizes, num_linear_layers, num_classes)\n",
    "optimizer = torch.optim.Adam(model.parameters(), lr=0.01, weight_decay=5e-4)"
   ]
  },
  {
   "cell_type": "code",
   "execution_count": null,
   "id": "77a39b26-d5c3-44fe-a500-1eac88a64b76",
   "metadata": {},
   "outputs": [],
   "source": [
    "# build train function with train/test split, build test function, run model"
   ]
  }
 ],
 "metadata": {
  "kernelspec": {
   "display_name": "Python 3 (ipykernel)",
   "language": "python",
   "name": "python3"
  },
  "language_info": {
   "codemirror_mode": {
    "name": "ipython",
    "version": 3
   },
   "file_extension": ".py",
   "mimetype": "text/x-python",
   "name": "python",
   "nbconvert_exporter": "python",
   "pygments_lexer": "ipython3",
   "version": "3.11.9"
  }
 },
 "nbformat": 4,
 "nbformat_minor": 5
}
